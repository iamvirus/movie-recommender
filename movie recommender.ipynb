{
 "cells": [
  {
   "cell_type": "code",
   "execution_count": 3,
   "metadata": {},
   "outputs": [],
   "source": [
    "import pandas as pd\n",
    "import numpy as np\n",
    "from sklearn.decomposition import TruncatedSVD\n",
    "\n",
    "train = pd.read_csv('train.csv')\n",
    "train['count'] = train.groupby('movie_id')['movie_id'].transform('count')\n",
    "train['weight'] = train['rating'] * train['count']\n",
    "ratings_crosstab = train.pivot_table(values='rating', index='user_id', columns= 'movie_id', fill_value=0)\n",
    "X = ratings_crosstab.values.T\n",
    "SVD = TruncatedSVD(n_components= 22, random_state= 17)\n",
    "resultant_matrix = SVD.fit_transform(X)\n",
    "corr_mat = np.corrcoef(resultant_matrix)\n",
    "movies_names = ratings_crosstab.columns\n",
    "movie_list = list(movies_names)\n",
    "with open('recommendations.csv', 'r') as file:\n",
    "    x = file.readlines()\n",
    "f = open('ans.csv','w')\n",
    "x = map(int,x)\n",
    "\n",
    "for user_id in x:\n",
    "#     user_movies = train[['movie_id','count','rating']][train.user_id == user_id]\n",
    "#     user_movies.sort_values(['rating','count'], ascending = False, inplace = True)\n",
    "\n",
    "\n",
    "    user_movies = train[['movie_id','weight']][train.user_id == user_id]\n",
    "    user_movies.sort_values(['weight'], ascending = False, inplace = True)\n",
    "\n",
    "    \n",
    "    recommend = []\n",
    "    for movie in user_movies['movie_id'].values:\n",
    "        index = movie_list.index(movie)\n",
    "        corr_movie = corr_mat[index]\n",
    "        mfilter = (corr_movie < 1.0) & (corr_movie > 0.911)\n",
    "        name = movies_names[mfilter]\n",
    "        corrvalue = corr_movie[mfilter]\n",
    "        movies_df = pd.DataFrame({'name':name, 'corrvalue':corrvalue}).sort_values('corrvalue', ascending=False)\n",
    "        for m in movies_df['name'].values:\n",
    "            if (m not in user_movies['movie_id'].values) and (m not in recommend):\n",
    "                recommend.append(m)\n",
    "            if len(recommend) >= 10:\n",
    "                break\n",
    "        if len(recommend) >= 10:\n",
    "            break\n",
    "    recommend = map(str, recommend)\n",
    "    f.write(str(user_id)+', '+ str(','.join(recommend))+'\\n')\n",
    "f.close()"
   ]
  },
  {
   "cell_type": "code",
   "execution_count": null,
   "metadata": {},
   "outputs": [],
   "source": []
  }
 ],
 "metadata": {
  "kernelspec": {
   "display_name": "Python 3",
   "language": "python",
   "name": "python3"
  },
  "language_info": {
   "codemirror_mode": {
    "name": "ipython",
    "version": 3
   },
   "file_extension": ".py",
   "mimetype": "text/x-python",
   "name": "python",
   "nbconvert_exporter": "python",
   "pygments_lexer": "ipython3",
   "version": "3.8.3"
  }
 },
 "nbformat": 4,
 "nbformat_minor": 4
}
